{
 "cells": [
  {
   "cell_type": "markdown",
   "metadata": {},
   "source": [
    "# Algorithmic Methods of Data Mining\n",
    "Théophile TOLANI\n",
    "### Homework 1"
   ]
  },
  {
   "cell_type": "markdown",
   "metadata": {},
   "source": [
    "### Instructions\n",
    "You must hand in the homeworks electronically and before the due date and time.\n",
    "The first homework has to be done by each person individually.\n",
    "Handing in: \n",
    "<br>\n",
    "You have to create a public Github repository, that you are going to share with us filling this\n",
    "Google Form (compulsory, otherwise we will not be able to correct your homework). \n",
    "<br>\n",
    "The content of the repository is up to you. The mandatory files are:\n",
    "<br>\n",
    "• README.md: a Markdown file that explains the content of your repository. This is an\n",
    "example. It is important that for each file/folder you say what it contains. Here a cheatsheet\n",
    "to use Markdown.\n",
    "<br>\n",
    "• scripts.py: a .py file that contains any solution of the exercise you completed. Alternatively,\n",
    "you can also produce a Jupyter Notebook, where each cell contains an exercise.\n",
    "<br>\n",
    "• stamps/: a folder that contains all the screenshot that assess the successful exercises you\n",
    "did. You can find all of your submissions in your Hackerrank profile.\n",
    "For information about collaboration, and about being late check the web page."
   ]
  },
  {
   "cell_type": "markdown",
   "metadata": {},
   "source": [
    "## Problem 1 \n",
    "The goal of the first assignment focuses on building up your skills on Python. The\n",
    "assignment is done electronically using the HACKERRANK online service available from the following URL:\n",
    "https://www.hackerrank.com\n",
    "\n",
    "<br>\n",
    "You must create an account and complete as many challenges as you can from the list included\n",
    "below. When you are finished and want to submit your assignment, from the hackerrank site, go\n",
    "to the submissions page under your profile and produce a PDF printout. This is available from the\n",
    "following url:\n",
    "https://www.hackerrank.com/submissions/all\n",
    "\n",
    "<br>\n",
    "Your solutions must include as attachment:\n",
    "<br>\n",
    "• The pdf file that you created.\n",
    "<br>\n",
    "• The Python code of your solutions, clearly organized.\n",
    "<br>\n",
    "Don’t forget to check the collaboration policy at the course web page. To summarize, you can discuss with each other, but the writing at the end should be yours.\n",
    "In addition, you should preferably not look at the solutions provided by HACKERRANK; if you do so, you should explicitly mention it in the corresponding response.\n",
    "Let’s go to the homework. The Python challenges that you need to complete are the following:"
   ]
  },
  {
   "cell_type": "markdown",
   "metadata": {},
   "source": [
    "---\n",
    "# Introduction"
   ]
  },
  {
   "cell_type": "markdown",
   "metadata": {},
   "source": [
    "## Say \"Hello, World!\" With Python"
   ]
  },
  {
   "cell_type": "code",
   "execution_count": 14,
   "metadata": {},
   "outputs": [],
   "source": [
    "print(\"Hello, World!\")"
   ]
  },
  {
   "cell_type": "markdown",
   "metadata": {},
   "source": [
    "## Loops"
   ]
  },
  {
   "cell_type": "code",
   "execution_count": null,
   "metadata": {},
   "outputs": [],
   "source": [
    "if __name__ == '__main__':\n",
    "    n = int(raw_input())\n",
    "    for k in range(n):\n",
    "        print(k**2)"
   ]
  },
  {
   "cell_type": "markdown",
   "metadata": {},
   "source": [
    "## Python If-Else"
   ]
  },
  {
   "cell_type": "code",
   "execution_count": null,
   "metadata": {},
   "outputs": [],
   "source": [
    "#!/bin/python\n",
    "\n",
    "import math\n",
    "import os\n",
    "import random\n",
    "import re\n",
    "import sys\n",
    "\n",
    "\n",
    "\n",
    "if __name__ == '__main__':\n",
    "    n = int(raw_input().strip())\n",
    "    if n%2!=0:\n",
    "        print('Weird')\n",
    "    elif n==2 or n==4:\n",
    "        print('Not Weird')\n",
    "    elif n%2==0 and n<=20:\n",
    "        print('Weird')\n",
    "    elif n%2==0 and n>20:\n",
    "        print('Not Weird')"
   ]
  },
  {
   "cell_type": "markdown",
   "metadata": {},
   "source": [
    "## Arithmetic Operations"
   ]
  },
  {
   "cell_type": "code",
   "execution_count": null,
   "metadata": {},
   "outputs": [],
   "source": [
    "if __name__ == '__main__':\n",
    "    a = int(input())\n",
    "    b = int(input())\n",
    "\n",
    "    print(a+b,a-b,a*b)"
   ]
  },
  {
   "cell_type": "markdown",
   "metadata": {},
   "source": [
    "## Python: Division"
   ]
  },
  {
   "cell_type": "code",
   "execution_count": null,
   "metadata": {},
   "outputs": [],
   "source": [
    "from __future__ import division\n",
    "\n",
    "if __name__ == '__main__':\n",
    "    a = int(raw_input())\n",
    "    b = int(raw_input())\n",
    "    print(a//b)\n",
    "    print(a/b)"
   ]
  },
  {
   "cell_type": "markdown",
   "metadata": {},
   "source": [
    "## Write a function"
   ]
  },
  {
   "cell_type": "code",
   "execution_count": null,
   "metadata": {},
   "outputs": [],
   "source": [
    "def is_leap(year):\n",
    "    leap = False\n",
    "    \n",
    "    if year%4==0:\n",
    "        if year%100==0:\n",
    "            if year%400==0:\n",
    "                leap=True\n",
    "            else:\n",
    "                leap=False\n",
    "        else:\n",
    "            leap=True\n",
    "    else:\n",
    "        leap=False\n",
    "    \n",
    "    return leap"
   ]
  },
  {
   "cell_type": "markdown",
   "metadata": {},
   "source": [
    "## Print Function"
   ]
  },
  {
   "cell_type": "code",
   "execution_count": null,
   "metadata": {},
   "outputs": [],
   "source": [
    "from __future__ import print_function\n",
    "\n",
    "if __name__ == '__main__':\n",
    "    n = int(raw_input())\n",
    "    a = ''\n",
    "    for k in range(1,n+1):\n",
    "        a += str(k)\n",
    "    print(a)"
   ]
  },
  {
   "cell_type": "markdown",
   "metadata": {},
   "source": [
    "---\n",
    "# Data Types"
   ]
  },
  {
   "cell_type": "markdown",
   "metadata": {},
   "source": [
    "## List Comprehensions"
   ]
  },
  {
   "cell_type": "code",
   "execution_count": null,
   "metadata": {},
   "outputs": [],
   "source": [
    "if __name__ == '__main__':\n",
    "    x = int(raw_input())\n",
    "    y = int(raw_input())\n",
    "    z = int(raw_input())\n",
    "    n = int(raw_input())\n",
    "\n",
    "    l=[]\n",
    "    res=[]\n",
    "    for i in range(x+1):\n",
    "        for j in range(y+1):\n",
    "            for k in range(z+1):\n",
    "                l.append([i,j,k])\n",
    "    \n",
    "    for k in range(len(l)):\n",
    "        if sum(l[k])!=n:\n",
    "            res.append(l[k])\n",
    "    \n",
    "    print(res)"
   ]
  },
  {
   "cell_type": "markdown",
   "metadata": {},
   "source": [
    "## Find the Runner-up Score"
   ]
  },
  {
   "cell_type": "code",
   "execution_count": null,
   "metadata": {},
   "outputs": [],
   "source": [
    "if __name__ == '__main__':\n",
    "    n = int(raw_input())\n",
    "    arr = map(int, raw_input().split())\n",
    "\n",
    "    highest_score = max(arr)\n",
    "    second_highest= min(arr)\n",
    "    for k in range(n):\n",
    "        if arr[k]<highest_score and arr[k]>second_highest:\n",
    "            second_highest=arr[k]\n",
    "\n",
    "    print(second_highest)"
   ]
  },
  {
   "cell_type": "markdown",
   "metadata": {},
   "source": [
    "## Nested Lists"
   ]
  },
  {
   "cell_type": "code",
   "execution_count": 1,
   "metadata": {},
   "outputs": [
    {
     "ename": "NameError",
     "evalue": "name 'raw_input' is not defined",
     "output_type": "error",
     "traceback": [
      "\u001b[1;31m---------------------------------------------------------------------------\u001b[0m",
      "\u001b[1;31mNameError\u001b[0m                                 Traceback (most recent call last)",
      "\u001b[1;32m<ipython-input-1-acd0bd901383>\u001b[0m in \u001b[0;36m<module>\u001b[1;34m\u001b[0m\n\u001b[0;32m      2\u001b[0m     \u001b[0mnoms\u001b[0m\u001b[1;33m=\u001b[0m\u001b[1;33m[\u001b[0m\u001b[1;33m]\u001b[0m\u001b[1;33m\u001b[0m\u001b[1;33m\u001b[0m\u001b[0m\n\u001b[0;32m      3\u001b[0m     \u001b[0mscores\u001b[0m\u001b[1;33m=\u001b[0m\u001b[1;33m[\u001b[0m\u001b[1;33m]\u001b[0m\u001b[1;33m\u001b[0m\u001b[1;33m\u001b[0m\u001b[0m\n\u001b[1;32m----> 4\u001b[1;33m     \u001b[1;32mfor\u001b[0m \u001b[0m_\u001b[0m \u001b[1;32min\u001b[0m \u001b[0mrange\u001b[0m\u001b[1;33m(\u001b[0m\u001b[0mint\u001b[0m\u001b[1;33m(\u001b[0m\u001b[0mraw_input\u001b[0m\u001b[1;33m(\u001b[0m\u001b[1;33m)\u001b[0m\u001b[1;33m)\u001b[0m\u001b[1;33m)\u001b[0m\u001b[1;33m:\u001b[0m\u001b[1;33m\u001b[0m\u001b[1;33m\u001b[0m\u001b[0m\n\u001b[0m\u001b[0;32m      5\u001b[0m         \u001b[0mname\u001b[0m \u001b[1;33m=\u001b[0m \u001b[0mraw_input\u001b[0m\u001b[1;33m(\u001b[0m\u001b[1;33m)\u001b[0m\u001b[1;33m\u001b[0m\u001b[1;33m\u001b[0m\u001b[0m\n\u001b[0;32m      6\u001b[0m         \u001b[0mscore\u001b[0m \u001b[1;33m=\u001b[0m \u001b[0mfloat\u001b[0m\u001b[1;33m(\u001b[0m\u001b[0mraw_input\u001b[0m\u001b[1;33m(\u001b[0m\u001b[1;33m)\u001b[0m\u001b[1;33m)\u001b[0m\u001b[1;33m\u001b[0m\u001b[1;33m\u001b[0m\u001b[0m\n",
      "\u001b[1;31mNameError\u001b[0m: name 'raw_input' is not defined"
     ]
    }
   ],
   "source": [
    "if __name__ == '__main__':\n",
    "    noms=[]\n",
    "    scores=[]\n",
    "    for _ in range(int(raw_input())):\n",
    "        name = raw_input()\n",
    "        score = float(raw_input())\n",
    "        noms.append(name)\n",
    "        scores.append(score)\n",
    "\n",
    "    lowest_score = min(scores)\n",
    "    second_lowest= max(scores)\n",
    "    for k in range(len(noms)):\n",
    "        if scores[k]>lowest_score and scores[k]<second_lowest:\n",
    "            second_lowest=scores[k]\n",
    "\n",
    "    rang=[]\n",
    "    for k in range(len(noms)):\n",
    "        if scores[k]==second_lowest:\n",
    "            rang.append(k)\n",
    "    \n",
    "    prenoms=[]\n",
    "    for k in range(len(rang)):\n",
    "        prenoms.append(noms[rang[k]])\n",
    "    \n",
    "    prenoms.sort()\n",
    "    for k in range(len(prenoms)):\n",
    "        print(prenoms[k])"
   ]
  },
  {
   "cell_type": "markdown",
   "metadata": {},
   "source": [
    "## Finding the percentage"
   ]
  },
  {
   "cell_type": "code",
   "execution_count": null,
   "metadata": {},
   "outputs": [],
   "source": [
    "#if __name__ == '__main__':\n",
    "  #  n = int(input())\n",
    " #   student_marks = {}\n",
    " #   for _ in range(n):\n",
    " #       name, *line = input().split()\n",
    " #       scores = list(map(float, line))\n",
    "  #      student_marks[name] = scores\n",
    " #   query_name = input()\n",
    "\n",
    "\n",
    "def get_avg(marks, student):\n",
    "    return (sum(marks[student])/len(marks[student]))\n",
    "\n",
    "if __name__ == '__main__':\n",
    "    n = int(input())\n",
    "    student_marks = {}\n",
    "    for _ in range(n):\n",
    "        name, *line = input().split()\n",
    "        scores = list(map(float, line))\n",
    "        student_marks[name] = scores\n",
    "    query_name = input()\n",
    "    print(\"{:.2f}\".format(get_avg(student_marks, query_name)))"
   ]
  },
  {
   "cell_type": "markdown",
   "metadata": {},
   "source": [
    "## Lists"
   ]
  },
  {
   "cell_type": "code",
   "execution_count": null,
   "metadata": {},
   "outputs": [],
   "source": [
    "if __name__ == '__main__':\n",
    "    N = int(raw_input())\n",
    "    liste = []\n",
    "    for k in range(N):\n",
    "        commande = raw_input()\n",
    "        if commande[:6]=='insert':\n",
    "            liste.insert(int(commande[7]),int(commande[9:]))\n",
    "        elif commande[:6]=='append':\n",
    "            liste.append(int(commande[7:]))\n",
    "        elif commande[:6]=='remove':\n",
    "            liste.remove(int(commande[7]))\n",
    "        elif commande[:5]=='print':\n",
    "            print(liste)\n",
    "        elif commande[:4]=='sort':\n",
    "            liste.sort()\n",
    "        elif commande[:3]=='pop':\n",
    "            liste.pop()\n",
    "        elif commande[:7]=='reverse':\n",
    "            liste.reverse()"
   ]
  },
  {
   "cell_type": "markdown",
   "metadata": {},
   "source": [
    "## Tuples"
   ]
  },
  {
   "cell_type": "code",
   "execution_count": 2,
   "metadata": {},
   "outputs": [
    {
     "ename": "NameError",
     "evalue": "name 'raw_input' is not defined",
     "output_type": "error",
     "traceback": [
      "\u001b[1;31m---------------------------------------------------------------------------\u001b[0m",
      "\u001b[1;31mNameError\u001b[0m                                 Traceback (most recent call last)",
      "\u001b[1;32m<ipython-input-2-ce4b72da4ac0>\u001b[0m in \u001b[0;36m<module>\u001b[1;34m\u001b[0m\n\u001b[0;32m      1\u001b[0m \u001b[1;32mif\u001b[0m \u001b[0m__name__\u001b[0m \u001b[1;33m==\u001b[0m \u001b[1;34m'__main__'\u001b[0m\u001b[1;33m:\u001b[0m\u001b[1;33m\u001b[0m\u001b[1;33m\u001b[0m\u001b[0m\n\u001b[1;32m----> 2\u001b[1;33m     \u001b[0mn\u001b[0m \u001b[1;33m=\u001b[0m \u001b[0mint\u001b[0m\u001b[1;33m(\u001b[0m\u001b[0mraw_input\u001b[0m\u001b[1;33m(\u001b[0m\u001b[1;33m)\u001b[0m\u001b[1;33m)\u001b[0m\u001b[1;33m\u001b[0m\u001b[1;33m\u001b[0m\u001b[0m\n\u001b[0m\u001b[0;32m      3\u001b[0m     \u001b[0minteger_list\u001b[0m \u001b[1;33m=\u001b[0m \u001b[0mmap\u001b[0m\u001b[1;33m(\u001b[0m\u001b[0mint\u001b[0m\u001b[1;33m,\u001b[0m \u001b[0mraw_input\u001b[0m\u001b[1;33m(\u001b[0m\u001b[1;33m)\u001b[0m\u001b[1;33m.\u001b[0m\u001b[0msplit\u001b[0m\u001b[1;33m(\u001b[0m\u001b[1;33m)\u001b[0m\u001b[1;33m)\u001b[0m\u001b[1;33m\u001b[0m\u001b[1;33m\u001b[0m\u001b[0m\n\u001b[0;32m      4\u001b[0m \u001b[1;33m\u001b[0m\u001b[0m\n\u001b[0;32m      5\u001b[0m     \u001b[0mprint\u001b[0m\u001b[1;33m(\u001b[0m\u001b[0mhash\u001b[0m\u001b[1;33m(\u001b[0m\u001b[0mtuple\u001b[0m\u001b[1;33m(\u001b[0m\u001b[0minteger_list\u001b[0m\u001b[1;33m)\u001b[0m\u001b[1;33m)\u001b[0m\u001b[1;33m)\u001b[0m\u001b[1;33m\u001b[0m\u001b[1;33m\u001b[0m\u001b[0m\n",
      "\u001b[1;31mNameError\u001b[0m: name 'raw_input' is not defined"
     ]
    }
   ],
   "source": [
    "if __name__ == '__main__':\n",
    "    n = int(raw_input())\n",
    "    integer_list = map(int, raw_input().split())\n",
    "\n",
    "    print(hash(tuple(integer_list)))"
   ]
  },
  {
   "cell_type": "markdown",
   "metadata": {},
   "source": [
    "---\n",
    "# Strings"
   ]
  },
  {
   "cell_type": "markdown",
   "metadata": {},
   "source": [
    "## sWAP cASE"
   ]
  },
  {
   "cell_type": "code",
   "execution_count": null,
   "metadata": {},
   "outputs": [],
   "source": [
    "def swap_case(s):\n",
    "    return s.swapcase()"
   ]
  },
  {
   "cell_type": "markdown",
   "metadata": {},
   "source": [
    "## String Split and Join"
   ]
  },
  {
   "cell_type": "code",
   "execution_count": null,
   "metadata": {},
   "outputs": [],
   "source": [
    "def split_and_join(line):\n",
    "    a = line.split(' ')\n",
    "    return \"-\".join(a)"
   ]
  },
  {
   "cell_type": "markdown",
   "metadata": {},
   "source": [
    "## What's your name ?"
   ]
  },
  {
   "cell_type": "code",
   "execution_count": null,
   "metadata": {},
   "outputs": [],
   "source": [
    "def print_full_name(a, b):\n",
    "    print \"Hello \"+first_name+\" \"+last_name+\"! You just delved into python.\""
   ]
  },
  {
   "cell_type": "markdown",
   "metadata": {},
   "source": [
    "## Mutations"
   ]
  },
  {
   "cell_type": "code",
   "execution_count": null,
   "metadata": {},
   "outputs": [],
   "source": [
    "def mutate_string(string, position, character):\n",
    "    a = string[:position]\n",
    "    b = string[1+position:]\n",
    "\n",
    "    return a+character+b"
   ]
  },
  {
   "cell_type": "markdown",
   "metadata": {},
   "source": [
    "## Find a String"
   ]
  },
  {
   "cell_type": "code",
   "execution_count": null,
   "metadata": {},
   "outputs": [],
   "source": [
    "def count_substring(string, sub_string):\n",
    "    compteur = 0\n",
    "    for k in range(len(string)-2):\n",
    "        if string[k:k+len(sub_string)] == sub_string:\n",
    "            compteur += 1\n",
    "    return compteur"
   ]
  },
  {
   "cell_type": "markdown",
   "metadata": {},
   "source": [
    "## String Validators"
   ]
  },
  {
   "cell_type": "code",
   "execution_count": null,
   "metadata": {},
   "outputs": [],
   "source": [
    "if __name__ == '__main__':\n",
    "    s = raw_input()\n",
    "    isalnum = False\n",
    "    isalpha = False\n",
    "    isdigit = False\n",
    "    islower = False\n",
    "    isupper = False\n",
    "\n",
    "    for k in range(len(s)):\n",
    "        if s[k].isalnum():\n",
    "            isalnum = True\n",
    "            if s[k].isdigit():\n",
    "                isdigit = True\n",
    "            elif s[k].isalpha():\n",
    "                isalpha = True\n",
    "                if s[k].islower():\n",
    "                    islower = True\n",
    "                elif s[k].isupper():\n",
    "                    isupper = True\n",
    "\n",
    "        \n",
    "    print isalnum\n",
    "    print isalpha\n",
    "    print isdigit\n",
    "    print islower\n",
    "    print isupper"
   ]
  },
  {
   "cell_type": "markdown",
   "metadata": {},
   "source": [
    "## Text Alignment"
   ]
  },
  {
   "cell_type": "code",
   "execution_count": null,
   "metadata": {},
   "outputs": [],
   "source": [
    "#Replace all ______ with rjust, ljust or center. \n",
    "\n",
    "thickness = int(input()) #This must be an odd number\n",
    "c = 'H'\n",
    "\n",
    "#Top Cone\n",
    "for i in range(thickness):\n",
    "    print((c*i).rjust(thickness-1)+c+(c*i).ljust(thickness-1))\n",
    "\n",
    "#Top Pillars\n",
    "for i in range(thickness+1):\n",
    "    print((c*thickness).center(thickness*2)+(c*thickness).center(thickness*6))\n",
    "\n",
    "#Middle Belt\n",
    "for i in range((thickness+1)//2):\n",
    "    print((c*thickness*5).center(thickness*6))    \n",
    "\n",
    "#Bottom Pillars\n",
    "for i in range(thickness+1):\n",
    "    print((c*thickness).center(thickness*2)+(c*thickness).center(thickness*6))    \n",
    "\n",
    "#Bottom Cone\n",
    "for i in range(thickness):\n",
    "    print(((c*(thickness-i-1)).rjust(thickness)+c+(c*(thickness-i-1)).ljust(thickness)).rjust(thickness*6))\n"
   ]
  },
  {
   "cell_type": "markdown",
   "metadata": {},
   "source": [
    "## Text Wrap"
   ]
  },
  {
   "cell_type": "code",
   "execution_count": null,
   "metadata": {},
   "outputs": [],
   "source": [
    "def wrap(string, max_width):\n",
    "    l=[]\n",
    "    for k in range(0,len(string),max_width):\n",
    "        l.append(string[k:k+max_width])\n",
    "    for k in range(len(l)-1):\n",
    "        print(l[k])\n",
    "    return l[-1]"
   ]
  },
  {
   "cell_type": "markdown",
   "metadata": {},
   "source": [
    "## Designer Door Mat"
   ]
  },
  {
   "cell_type": "code",
   "execution_count": null,
   "metadata": {},
   "outputs": [],
   "source": [
    "N, M = map(int,input().split()) # More than 6 lines of code will result in 0 score. Blank lines are not counted.\n",
    "for i in range(1, N, 2): \n",
    "    print((i*\".|.\").center(3*N, \"-\"))\n",
    "print (\"-WELCOME-\".center(3*N, \"-\"))\n",
    "for i in range(N - 2, -1, -2): \n",
    "    print((i*\".|.\").center(3*N, \"-\"))"
   ]
  },
  {
   "cell_type": "markdown",
   "metadata": {},
   "source": [
    "## String Formatting"
   ]
  },
  {
   "cell_type": "code",
   "execution_count": null,
   "metadata": {},
   "outputs": [],
   "source": [
    "def print_formatted(number):\n",
    "    align = len(bin(number)[2:])\n",
    "    for num in range(1, number + 1):\n",
    "        n_dec = str(num)\n",
    "        n_oct = oct(num)[2:]\n",
    "        n_hex = hex(num)[2:].upper()\n",
    "        n_bin = bin(num)[2:]\n",
    "        print(n_dec.rjust(align), n_oct.rjust(align), n_hex.rjust(align), n_bin.rjust(align))\n",
    "\n",
    "if __name__ == '__main__':\n",
    "    n = int(input())\n",
    "    print_formatted(n)"
   ]
  },
  {
   "cell_type": "markdown",
   "metadata": {},
   "source": [
    "## Alphabet Rangoli"
   ]
  },
  {
   "cell_type": "code",
   "execution_count": null,
   "metadata": {},
   "outputs": [],
   "source": [
    "import string\n",
    "alpha = string.ascii_lowercase\n",
    "\n",
    "def print_rangoli(size):\n",
    "    lines = []\n",
    "    for row in range(size):\n",
    "        to_print = \"-\".join(alpha[row:size])\n",
    "        lines.append(to_print[::-1] + to_print[1:])\n",
    "    width = len(lines[0])\n",
    "    \n",
    "    for row in range(size-1, 0, -1):\n",
    "        print(lines[row].center(width, '-'))\n",
    "        \n",
    "    for row in range(size):\n",
    "        print(lines[row].center(width, '-'))"
   ]
  },
  {
   "cell_type": "markdown",
   "metadata": {},
   "source": [
    "## Capitalize !"
   ]
  },
  {
   "cell_type": "code",
   "execution_count": null,
   "metadata": {},
   "outputs": [],
   "source": [
    "# Complete the solve function below.\n",
    "def solve(string):\n",
    "    for word in string.split():\n",
    "        string = string.replace(word, word.capitalize())\n",
    "    return string"
   ]
  },
  {
   "cell_type": "markdown",
   "metadata": {},
   "source": [
    "## Merge the tools"
   ]
  },
  {
   "cell_type": "code",
   "execution_count": null,
   "metadata": {},
   "outputs": [],
   "source": [
    "#def merge_the_tools(string, k):\n",
    " #   nk= int(len(string)/k)\n",
    "  #  t=[]\n",
    "   # u=[]\n",
    "   # for i in range(0,len(string),nk):\n",
    " #       t.append(string[i:i+nk])\n",
    "##    \n",
    " #   for i in range(len(t)):\n",
    " #       u.append(list(dict.fromkeys(t[i])))\n",
    " #   \n",
    " ###   for i in range(len(u)):\n",
    "  #      print(''.join(u[i]))\n",
    "\n",
    "  \n",
    "def merge_the_tools(string, k):\n",
    "    block_cnt = len(string)//k\n",
    "    output_t = []\n",
    "    output_u = []\n",
    "    \n",
    "    #print(\"{}/{} = {}\".format(len(string), k, block_len))\n",
    "    for ind in range(0, len(string) - k + 1, k):\n",
    "        output_t.append(string[ind:ind + k])\n",
    "    \n",
    "    for block in output_t:\n",
    "        for char in block:\n",
    "            char_count = block.count(char)\n",
    "            if char_count > 1:\n",
    "                block = block[::-1]\n",
    "                block = block.replace(char, '', char_count - 1)\n",
    "                block = block[::-1]\n",
    "        output_u.append(block)\n",
    "                \n",
    "    print(\"\\n\".join(map(str, output_u)))"
   ]
  },
  {
   "cell_type": "markdown",
   "metadata": {},
   "source": [
    "---\n",
    "# Sets"
   ]
  },
  {
   "cell_type": "markdown",
   "metadata": {},
   "source": [
    "## Introduction to sets"
   ]
  },
  {
   "cell_type": "code",
   "execution_count": null,
   "metadata": {},
   "outputs": [],
   "source": [
    "def average(array):\n",
    "    l = list(set(array))\n",
    "    return sum(l)/len(l)"
   ]
  },
  {
   "cell_type": "markdown",
   "metadata": {},
   "source": [
    "## No Idea !"
   ]
  },
  {
   "cell_type": "code",
   "execution_count": null,
   "metadata": {},
   "outputs": [],
   "source": [
    "if __name__ == '__main__':\n",
    "    n,m = list(map(int, input().split()))\n",
    "    L = list(map(int, input().split()))\n",
    "    A = set(map(int, input().split()))\n",
    "    B = set(map(int, input().split()))\n",
    "\n",
    "    bonheur = 0\n",
    "    for k in range(n):\n",
    "        if L[k] in A:\n",
    "            bonheur +=1\n",
    " #           A.remove(L[k])\n",
    "        elif L[k] in B:\n",
    "            bonheur -= 1\n",
    "  #          B.remove(L[k])\n",
    "    print(bonheur)"
   ]
  },
  {
   "cell_type": "markdown",
   "metadata": {},
   "source": [
    "## Symmetric Difference"
   ]
  },
  {
   "cell_type": "code",
   "execution_count": null,
   "metadata": {},
   "outputs": [],
   "source": [
    "if __name__ == '__main__':\n",
    "    n = int(input())\n",
    "    arr1 = list(map(int, input().split()))\n",
    "    myset1 = set(arr1)\n",
    "    m = int(input())\n",
    "    arr2 = list(map(int, input().split()))\n",
    "    myset2 = set(arr2)\n",
    "\n",
    "    res = list(myset1.difference(myset2))+list(myset2.difference(myset1))\n",
    "    res.sort()\n",
    "    for k in range(len(res)):\n",
    "        print(res[k])"
   ]
  },
  {
   "cell_type": "markdown",
   "metadata": {},
   "source": [
    "## Set .add()"
   ]
  },
  {
   "cell_type": "code",
   "execution_count": null,
   "metadata": {},
   "outputs": [],
   "source": [
    "n = int(input())\n",
    "set1 = set('')\n",
    "for k in range(n):\n",
    "    set1.add(input())\n",
    "\n",
    "print(len(set1))"
   ]
  },
  {
   "cell_type": "markdown",
   "metadata": {},
   "source": [
    "## Set .discard(), .remove() & .pop()"
   ]
  },
  {
   "cell_type": "code",
   "execution_count": null,
   "metadata": {},
   "outputs": [],
   "source": [
    "n = int(input())\n",
    "s = set(map(int, input().split()))\n",
    "N = int(input())\n",
    "\n",
    "for k in range(N):\n",
    "    com = input()\n",
    "    if com[:3]=='pop':\n",
    "        s.pop()\n",
    "    elif com[:6]=='remove':\n",
    "        s.remove(int(com[7:]))\n",
    "    elif com[:7]=='discard':\n",
    "        s.discard(int(com[8:]))\n",
    "\n",
    "print(sum(s))"
   ]
  },
  {
   "cell_type": "markdown",
   "metadata": {},
   "source": [
    "## Set .union() Operation"
   ]
  },
  {
   "cell_type": "code",
   "execution_count": null,
   "metadata": {},
   "outputs": [],
   "source": [
    "n1 = int(input())\n",
    "s1 = set(map(int, input().split()))\n",
    "n2 = int(input())\n",
    "s2 = set(map(int, input().split()))\n",
    "\n",
    "print(len(s1.union(s2)))"
   ]
  },
  {
   "cell_type": "markdown",
   "metadata": {},
   "source": [
    "## Set .intersection() Operation"
   ]
  },
  {
   "cell_type": "code",
   "execution_count": null,
   "metadata": {},
   "outputs": [],
   "source": [
    "n1 = int(input())\n",
    "s1 = set(map(int, input().split()))\n",
    "n2 = int(input())\n",
    "s2 = set(map(int, input().split()))\n",
    "\n",
    "print(len(s1.intersection(s2)))"
   ]
  },
  {
   "cell_type": "markdown",
   "metadata": {},
   "source": [
    "## Set .difference() Operation"
   ]
  },
  {
   "cell_type": "code",
   "execution_count": null,
   "metadata": {},
   "outputs": [],
   "source": [
    "n1 = int(input())\n",
    "s1 = set(map(int, input().split()))\n",
    "n2 = int(input())\n",
    "s2 = set(map(int, input().split()))\n",
    "\n",
    "print(len(s1)-len(s1.intersection(s2)))"
   ]
  },
  {
   "cell_type": "markdown",
   "metadata": {},
   "source": [
    "## Set .symmetric_difference() Operation"
   ]
  },
  {
   "cell_type": "code",
   "execution_count": null,
   "metadata": {},
   "outputs": [],
   "source": [
    "n1 = int(input())\n",
    "s1 = set(map(int, input().split()))\n",
    "n2 = int(input())\n",
    "s2 = set(map(int, input().split()))\n",
    "\n",
    "print(len(s1.symmetric_difference(s2)))"
   ]
  },
  {
   "cell_type": "markdown",
   "metadata": {},
   "source": [
    "## Set Mutations"
   ]
  },
  {
   "cell_type": "code",
   "execution_count": null,
   "metadata": {},
   "outputs": [],
   "source": [
    "n1 = int(input())\n",
    "s1 = set(map(int, input().split()))\n",
    "n2 = int(input())\n",
    "for k in range(n2):\n",
    "    com = input()\n",
    "    s = set(map(int, input().split()))\n",
    "    if com[:19]=='intersection_update':\n",
    "        s1.intersection_update(s)\n",
    "    elif com[:6]=='update':\n",
    "        s1.update(s)\n",
    "    elif com[:27]=='symmetric_difference_update':\n",
    "        s1.symmetric_difference_update(s)\n",
    "    elif com[:17]=='difference_update':\n",
    "        s1.difference_update(s)\n",
    "\n",
    "print(sum(s1))"
   ]
  },
  {
   "cell_type": "markdown",
   "metadata": {},
   "source": [
    "## The Captain's Room"
   ]
  },
  {
   "cell_type": "code",
   "execution_count": null,
   "metadata": {},
   "outputs": [],
   "source": [
    "n1 = int(input().strip())\n",
    "l = list(map(int, input().strip().split(' ')))\n",
    "print((sum(set(l))*n1 - sum(l))//(n1-1))\n",
    "\n",
    "#for k in range(len(s)):\n",
    "   # if l.count(s[k])==1:\n",
    "    #    print(s[k])"
   ]
  },
  {
   "cell_type": "markdown",
   "metadata": {},
   "source": [
    "## Check Subset"
   ]
  },
  {
   "cell_type": "code",
   "execution_count": null,
   "metadata": {},
   "outputs": [],
   "source": [
    "t = int(input())\n",
    "for k in range(t):\n",
    "    n1 = int(input())\n",
    "    A = set(map(int, input().split()))\n",
    "    n2 = int(input())\n",
    "    B = set(map(int, input().split()))\n",
    "    if len(A.difference(B))==0:\n",
    "        print(True)\n",
    "    else:\n",
    "        print(False)"
   ]
  },
  {
   "cell_type": "markdown",
   "metadata": {},
   "source": [
    "## Check Strict Subset"
   ]
  },
  {
   "cell_type": "code",
   "execution_count": null,
   "metadata": {},
   "outputs": [],
   "source": [
    "A = set(map(int, input().strip().split(' ')))\n",
    "t = int(input().strip())\n",
    "check = True\n",
    "    \n",
    "for _ in range(t):\n",
    "    subset = set(map(int, input().strip().split(' ')))\n",
    "    if len(subset - A) != 0 or len(A - subset) == 0:\n",
    "        check = False\n",
    "\n",
    "print(check)"
   ]
  },
  {
   "cell_type": "markdown",
   "metadata": {},
   "source": [
    "---\n",
    "# Collections"
   ]
  },
  {
   "cell_type": "markdown",
   "metadata": {},
   "source": [
    "## Collections.Counter()"
   ]
  },
  {
   "cell_type": "code",
   "execution_count": null,
   "metadata": {},
   "outputs": [],
   "source": [
    "from collections import Counter\n",
    "\n",
    "if __name__ == \"__main__\":\n",
    "    X = int(input().strip())\n",
    "    shoes = list(map(int, input().strip().split()))\n",
    "    N = int(input().strip())\n",
    "    result = 0\n",
    "    \n",
    "    warhs = Counter(shoes)\n",
    "    for _ in range(N):\n",
    "        size, money = map(int, input().strip().split(' '))\n",
    "        \n",
    "        if warhs[size] > 0:\n",
    "            result += money\n",
    "            warhs[size] -= 1\n",
    "        \n",
    "    print(result)"
   ]
  },
  {
   "cell_type": "markdown",
   "metadata": {},
   "source": [
    "## DefaultDict Tutorial"
   ]
  },
  {
   "cell_type": "code",
   "execution_count": null,
   "metadata": {},
   "outputs": [],
   "source": [
    "from collections import defaultdict\n",
    "\n",
    "if __name__ == \"__main__\":\n",
    "    n, m = map(int, input().strip().split(' '))\n",
    "    library = defaultdict(list)\n",
    "    \n",
    "    for ind in range(1, n + 1):\n",
    "        word = input().strip()\n",
    "        library[word].append(ind)\n",
    "    \n",
    "    for ind in range(m):\n",
    "        word = input().strip()\n",
    "        if len(library[word]) > 0:\n",
    "            print(\" \".join(map(str, library[word])))\n",
    "        else:\n",
    "            print(\"-1\")"
   ]
  },
  {
   "cell_type": "markdown",
   "metadata": {},
   "source": [
    "## Collections.namedtuple()"
   ]
  },
  {
   "cell_type": "code",
   "execution_count": null,
   "metadata": {},
   "outputs": [],
   "source": [
    "N = int(input())\n",
    "\n",
    "head = list(input().split())\n",
    "data = []\n",
    "for k in range(N):\n",
    "    data.append(list(input().split()))\n",
    "\n",
    "avg = 0\n",
    "for k in range(len(head)):\n",
    "    if head[k] == 'MARKS':\n",
    "        for i in range(N):\n",
    "            avg += int(data[i][k])\n",
    "        break\n",
    "    else: \n",
    "        avg = 0\n",
    "\n",
    "print(avg/N)"
   ]
  },
  {
   "cell_type": "markdown",
   "metadata": {},
   "source": [
    "## Collections.OrderedDict()"
   ]
  },
  {
   "cell_type": "code",
   "execution_count": null,
   "metadata": {},
   "outputs": [],
   "source": [
    "from collections import OrderedDict\n",
    "\n",
    "if __name__ == \"__main__\":\n",
    "    num = int(input().strip())\n",
    "    history = OrderedDict()\n",
    "    \n",
    "    for _ in range(num):\n",
    "        get_log = input().strip().split()\n",
    "        good = \" \".join(get_log[:-1])\n",
    "        sold = int(get_log[-1])\n",
    "        if good not in history.keys():\n",
    "            history[good] = sold\n",
    "        else:\n",
    "            history[good] += sold"
   ]
  },
  {
   "cell_type": "markdown",
   "metadata": {},
   "source": [
    "## Word Order"
   ]
  },
  {
   "cell_type": "code",
   "execution_count": null,
   "metadata": {},
   "outputs": [],
   "source": [
    "from collections import OrderedDict\n",
    "\n",
    "if __name__ == \"__main__\":\n",
    "    num = int(input().strip())\n",
    "    history = OrderedDict()\n",
    "    \n",
    "    for _ in range(num):\n",
    "        word = str(input().strip().split())\n",
    "        if word not in history.keys():\n",
    "            history[word] = 1\n",
    "        else:\n",
    "            history[word] += 1\n",
    "            \n",
    "    print(len(history.keys()))\n",
    "    print(\" \".join(map(str, history.values())))"
   ]
  },
  {
   "cell_type": "markdown",
   "metadata": {},
   "source": [
    "## Collections.dequel()"
   ]
  },
  {
   "cell_type": "code",
   "execution_count": null,
   "metadata": {},
   "outputs": [],
   "source": [
    "from collections import deque\n",
    "\n",
    "if __name__ == \"__main__\":\n",
    "    num = int(input().strip())\n",
    "    deq = deque()\n",
    "    \n",
    "    for _ in range(num):\n",
    "        args = input().strip().split()\n",
    "        \n",
    "        if args[0] == 'append':\n",
    "            deq.append(args[1])\n",
    "        elif args[0] == 'appendleft':\n",
    "            deq.appendleft(args[1])\n",
    "        elif args[0] == 'pop':\n",
    "            deq.pop()\n",
    "        elif args[0] == 'popleft':\n",
    "            deq.popleft()\n",
    "            \n",
    "    out = []\n",
    "    for el in deq:\n",
    "        out.append(el)\n",
    "            \n",
    "    print(\" \".join(map(str, out)))"
   ]
  },
  {
   "cell_type": "markdown",
   "metadata": {},
   "source": [
    "## Company Logo"
   ]
  },
  {
   "cell_type": "code",
   "execution_count": null,
   "metadata": {},
   "outputs": [],
   "source": [
    "#!/bin/python3\n",
    "\n",
    "import math\n",
    "import os\n",
    "import random\n",
    "import re\n",
    "import sys\n",
    "from collections import Counter, OrderedDict\n",
    "\n",
    "\n",
    "if __name__ == '__main__':\n",
    "\n",
    "    chars = Counter(input()).items()\n",
    "\n",
    "    for char, n in sorted(chars, key=lambda c: (-c[1], c[0]))[:3]:\n",
    "        print(char, n)\n"
   ]
  },
  {
   "cell_type": "markdown",
   "metadata": {},
   "source": [
    "## Piling up!"
   ]
  },
  {
   "cell_type": "code",
   "execution_count": null,
   "metadata": {},
   "outputs": [],
   "source": [
    "from collections import deque\n",
    "\n",
    "if __name__ == \"__main__\":\n",
    "    t = int(input().strip())\n",
    "    \n",
    "    for _ in range(t):\n",
    "        num_cnt = int(input().strip())\n",
    "        deq = deque(list(map(int, input().strip().split(' '))))\n",
    "        \n",
    "        prev = max(deq[0], deq[-1])\n",
    "        while deq:\n",
    "            if prev >= deq[0] and prev >= deq[-1]:\n",
    "                if deq[0] >= deq[-1]:\n",
    "                    prev = deq.popleft()\n",
    "                else:\n",
    "                    prev = deq.pop()\n",
    "            else:\n",
    "                break\n",
    "                \n",
    "        if len(deq) == 0:\n",
    "            print('Yes')\n",
    "        else:\n",
    "            print('No')"
   ]
  },
  {
   "cell_type": "markdown",
   "metadata": {},
   "source": [
    "---\n",
    "# Date and Time"
   ]
  },
  {
   "cell_type": "markdown",
   "metadata": {},
   "source": [
    "## Calendar Module"
   ]
  },
  {
   "cell_type": "code",
   "execution_count": null,
   "metadata": {},
   "outputs": [],
   "source": [
    "if __name__ == '__main__':\n",
    "    import calendar\n",
    "    date = str(input())\n",
    "    mois = int(date[:2])\n",
    "    jour = int(date[3:5])\n",
    "    annee = int(date[6:10])\n",
    "    res = calendar.weekday(annee, mois, jour)\n",
    "    if res == 0:\n",
    "        print('MONDAY')\n",
    "    elif res == 1:\n",
    "        print('TUESDAY')\n",
    "    elif res == 2:\n",
    "        print('WEDNESDAY')\n",
    "    elif res == 3:\n",
    "        print('THURSDAY')\n",
    "    elif res == 4:\n",
    "        print('FRIDAY')\n",
    "    elif res == 5:\n",
    "        print('SATURDAY')\n",
    "    elif res == 6:\n",
    "        print('SUNDAY')"
   ]
  },
  {
   "cell_type": "markdown",
   "metadata": {},
   "source": [
    "## Time Delta"
   ]
  },
  {
   "cell_type": "code",
   "execution_count": null,
   "metadata": {},
   "outputs": [],
   "source": [
    "import sys\n",
    "from datetime import datetime as dt\n",
    "\n",
    "dformat = \"%a %d %b %Y %H:%M:%S %z\"\n",
    "def time_delta(t1, t2):\n",
    "    first = dt.strptime(t1, dformat) \n",
    "    second = dt.strptime(t2, dformat) \n",
    "    \n",
    "    return int(abs((first - second).total_seconds()))\n",
    "\n",
    "if __name__ == \"__main__\":\n",
    "    t = int(input().strip())\n",
    "    for a0 in range(t):\n",
    "        t1 = input().strip()\n",
    "        t2 = input().strip()\n",
    "        delta = time_delta(t1, t2)\n",
    "        print(delta)"
   ]
  },
  {
   "cell_type": "markdown",
   "metadata": {},
   "source": [
    "---\n",
    "# Exceptions"
   ]
  },
  {
   "cell_type": "markdown",
   "metadata": {},
   "source": [
    "## Exceptions"
   ]
  },
  {
   "cell_type": "code",
   "execution_count": null,
   "metadata": {},
   "outputs": [],
   "source": [
    "n = int(input())\n",
    "for k in range(n):\n",
    "    a,b = a, b = input().strip().split(' ')\n",
    "    try:\n",
    "        print(int(a)//int(b))\n",
    "    except ZeroDivisionError as e:\n",
    "        print('Error Code:', e)\n",
    "    except ValueError as e:\n",
    "        print('Error Code:', e)"
   ]
  },
  {
   "cell_type": "markdown",
   "metadata": {},
   "source": [
    "---\n",
    "# Built-ins"
   ]
  },
  {
   "cell_type": "markdown",
   "metadata": {},
   "source": [
    "## Zipped !"
   ]
  },
  {
   "cell_type": "code",
   "execution_count": null,
   "metadata": {},
   "outputs": [],
   "source": [
    "n, student = map(int, input().split())\n",
    "L = []\n",
    "\n",
    "for k in range(student):\n",
    "    L.append(list(map(float, input().split())))\n",
    "\n",
    "for k in range(n):\n",
    "    grades = 0\n",
    "    for i in range(student):\n",
    "        grades += L[i][k]\n",
    "    print(grades/student)"
   ]
  },
  {
   "cell_type": "markdown",
   "metadata": {},
   "source": [
    "## Athlete Sort"
   ]
  },
  {
   "cell_type": "code",
   "execution_count": null,
   "metadata": {},
   "outputs": [],
   "source": [
    "#!/bin/python3\n",
    "\n",
    "import math\n",
    "import os\n",
    "import random\n",
    "import re\n",
    "import sys\n",
    "\n",
    "\n",
    "\n",
    "if __name__ == '__main__':\n",
    "    nm = input().split()\n",
    "\n",
    "    n = int(nm[0])\n",
    "\n",
    "    m = int(nm[1])\n",
    "\n",
    "    arr = []\n",
    "\n",
    "    for _ in range(n):\n",
    "        arr.append(list(map(int, input().rstrip().split())))\n",
    "\n",
    "    k = int(input())\n",
    "\n",
    "\n",
    "res = sorted(arr,key=lambda x: x[k])\n",
    "\n",
    "for k in range(len(res)):\n",
    "    p=''\n",
    "    for i in range(m):\n",
    "        p += str(res[k][i])\n",
    "        p += ' '\n",
    "    print(p)"
   ]
  },
  {
   "cell_type": "markdown",
   "metadata": {},
   "source": [
    "## ginortS"
   ]
  },
  {
   "cell_type": "code",
   "execution_count": null,
   "metadata": {},
   "outputs": [],
   "source": [
    "line = input()\n",
    "low=[]\n",
    "up=[]\n",
    "odd=[]\n",
    "even=[]\n",
    "\n",
    "for k in range(len(line)):\n",
    "    if line[k].islower():\n",
    "        low.append(line[k])\n",
    "    elif line[k].isupper():\n",
    "        up.append(line[k])\n",
    "    elif int(line[k])%2==0:\n",
    "        even.append(line[k])\n",
    "    else:\n",
    "        odd.append(line[k])\n",
    "\n",
    "low.sort()\n",
    "up.sort()\n",
    "even.sort()\n",
    "odd.sort()\n",
    "\n",
    "print(''.join(low)+\n",
    "''.join(up)+\n",
    "''.join(odd)+\n",
    "''.join(even))"
   ]
  },
  {
   "cell_type": "markdown",
   "metadata": {},
   "source": [
    "---\n",
    "# Python Functionals"
   ]
  },
  {
   "cell_type": "markdown",
   "metadata": {},
   "source": [
    "## Map and Lambda Function"
   ]
  },
  {
   "cell_type": "code",
   "execution_count": null,
   "metadata": {},
   "outputs": [],
   "source": [
    "cube = lambda x: x**3# complete the lambda function \n",
    "\n",
    "def fibonacci(n):\n",
    "    if n == 0:\n",
    "        return []\n",
    "    if n == 1:\n",
    "        return [0]\n",
    "    prev = 0\n",
    "    cur = 1\n",
    "    out = [prev, cur]\n",
    "    \n",
    "    for _ in range(n-2):\n",
    "        prev, cur = cur, prev + cur\n",
    "        out.append(cur)\n",
    "        \n",
    "    return out"
   ]
  },
  {
   "cell_type": "markdown",
   "metadata": {},
   "source": [
    "---\n",
    "# XML"
   ]
  },
  {
   "cell_type": "markdown",
   "metadata": {},
   "source": [
    "## XML 1 - Find the Score"
   ]
  },
  {
   "cell_type": "code",
   "execution_count": null,
   "metadata": {},
   "outputs": [],
   "source": [
    "def get_attr_number(node):\n",
    "    return len(node.attrib) + sum([get_attr_number(child) for child in node])\n",
    "\n",
    "if __name__ == '__main__':\n",
    "    sys.stdin.readline()\n",
    "    xml = sys.stdin.read()\n",
    "    tree = etree.ElementTree(etree.fromstring(xml))\n",
    "    root = tree.getroot()\n",
    "    print(get_attr_number(root))"
   ]
  },
  {
   "cell_type": "markdown",
   "metadata": {},
   "source": [
    "## XML2 - Find the Maximum Depth"
   ]
  },
  {
   "cell_type": "code",
   "execution_count": null,
   "metadata": {},
   "outputs": [],
   "source": [
    "maxdepth = 0\n",
    "def depth(elem, level):\n",
    "    if level == -1:\n",
    "        level = 0\n",
    "    global maxdepth\n",
    "    if level > maxdepth:\n",
    "        maxdepth = level\n",
    "    for el in elem:\n",
    "        depth(el, level+1)\n",
    "\n",
    "if __name__ == '__main__':\n",
    "    n = int(input())\n",
    "    xml = \"\"\n",
    "    for i in range(n):\n",
    "        xml =  xml + input() + \"\\n\"\n",
    "    tree = etree.ElementTree(etree.fromstring(xml))\n",
    "    depth(tree.getroot(), -1)\n",
    "    print(maxdepth)"
   ]
  },
  {
   "cell_type": "markdown",
   "metadata": {},
   "source": [
    "---\n",
    "# Closures and Decorators"
   ]
  },
  {
   "cell_type": "markdown",
   "metadata": {},
   "source": [
    "## Standardize Mobile Number Using Decorators"
   ]
  },
  {
   "cell_type": "code",
   "execution_count": null,
   "metadata": {},
   "outputs": [],
   "source": [
    "def wrapper(func):\n",
    "    def fun(l):\n",
    "        out = []\n",
    "        for telnum in l:\n",
    "            barenum = telnum[-10:]\n",
    "            telnum = '+91 ' + barenum[:5] + ' ' + barenum[5:]\n",
    "            out.append(telnum)\n",
    "        func(out)\n",
    "    return fun"
   ]
  },
  {
   "cell_type": "markdown",
   "metadata": {},
   "source": [
    "## Decorators 2 - Name Directory"
   ]
  },
  {
   "cell_type": "code",
   "execution_count": null,
   "metadata": {},
   "outputs": [],
   "source": [
    "def person_lister(f):\n",
    "    def inner(people):\n",
    "        return map(f, sorted(people, key=lambda x: int(x[2])))  \n",
    "    return inner"
   ]
  },
  {
   "cell_type": "markdown",
   "metadata": {},
   "source": [
    "---\n",
    "# Numpy"
   ]
  },
  {
   "cell_type": "markdown",
   "metadata": {},
   "source": [
    "## Arrays"
   ]
  },
  {
   "cell_type": "code",
   "execution_count": null,
   "metadata": {},
   "outputs": [],
   "source": [
    "def arrays(arr):\n",
    "    return(numpy.array(arr[::-1], float))"
   ]
  },
  {
   "cell_type": "markdown",
   "metadata": {},
   "source": [
    "## Shape and Reshape"
   ]
  },
  {
   "cell_type": "code",
   "execution_count": null,
   "metadata": {},
   "outputs": [],
   "source": [
    "print(numpy.reshape(numpy.array(list(map(int, input().split()))),(3,3)))"
   ]
  },
  {
   "cell_type": "markdown",
   "metadata": {},
   "source": [
    "## Transpose and Flatten"
   ]
  },
  {
   "cell_type": "code",
   "execution_count": null,
   "metadata": {},
   "outputs": [],
   "source": [
    "import numpy\n",
    "N,M = map(int, input().split())\n",
    "L = []\n",
    "\n",
    "for k in range(N):\n",
    "    L.append(list(map(int, input().split())))\n",
    "\n",
    "arr = numpy.array(L)\n",
    "\n",
    "print(numpy.transpose(arr))\n",
    "print(arr.flatten())"
   ]
  },
  {
   "cell_type": "markdown",
   "metadata": {},
   "source": [
    "## Concatenate"
   ]
  },
  {
   "cell_type": "code",
   "execution_count": null,
   "metadata": {},
   "outputs": [],
   "source": [
    "import numpy\n",
    "\n",
    "n,m,p = map(int, input().split())\n",
    "\n",
    "L=[]\n",
    "for k in range(n+m):\n",
    "    L.append(list(map(int, input().split())))\n",
    "N = numpy.array(L)\n",
    "\n",
    "print(N)"
   ]
  },
  {
   "cell_type": "markdown",
   "metadata": {},
   "source": [
    "## Zeros and Ones"
   ]
  },
  {
   "cell_type": "code",
   "execution_count": null,
   "metadata": {},
   "outputs": [],
   "source": [
    "import numpy\n",
    "#n,m,p = 1,1,1\n",
    "#n,m,p = map(int, input().split())\n",
    "\n",
    "nmp = tuple(map(int, input().split()))\n",
    "\n",
    "print(numpy.zeros((nmp),dtype = numpy.int))\n",
    "print(numpy.ones((nmp),dtype = numpy.int))"
   ]
  },
  {
   "cell_type": "markdown",
   "metadata": {},
   "source": [
    "## Eye and Identity"
   ]
  },
  {
   "cell_type": "code",
   "execution_count": null,
   "metadata": {},
   "outputs": [],
   "source": [
    "import numpy\n",
    "\n",
    "N,M = map(int, input().split())\n",
    "\n",
    "print(str(numpy.eye(N,M,k=0)).replace('1',' 1').replace('0',' 0'))"
   ]
  },
  {
   "cell_type": "markdown",
   "metadata": {},
   "source": [
    "## Arrays Mathematics"
   ]
  },
  {
   "cell_type": "code",
   "execution_count": null,
   "metadata": {},
   "outputs": [],
   "source": [
    "import numpy\n",
    "\n",
    "n,m = map(int, input().split())\n",
    "\n",
    "L = []\n",
    "for k in range(n):\n",
    "    L.append(list(map(int, input().split())))\n",
    "N = numpy.array(L)\n",
    "\n",
    "L = []\n",
    "for k in range(n):\n",
    "    L.append(list(map(int, input().split())))\n",
    "M = numpy.array(L)\n",
    "\n",
    "print(numpy.add(N,M))\n",
    "print(numpy.subtract(N,M))\n",
    "print(numpy.multiply(N,M))\n",
    "print(N//M)\n",
    "print(numpy.mod(N,M))\n",
    "print(numpy.power(N,M))"
   ]
  },
  {
   "cell_type": "markdown",
   "metadata": {},
   "source": [
    "## Floor, Ceil and Rint"
   ]
  },
  {
   "cell_type": "code",
   "execution_count": null,
   "metadata": {},
   "outputs": [],
   "source": [
    "import numpy\n",
    "\n",
    "numpy.set_printoptions(sign=' ')\n",
    "\n",
    "arr = numpy.array(list(map(float, input().split())))\n",
    "\n",
    "print(numpy.floor(arr))\n",
    "print(numpy.ceil(arr))\n",
    "print(numpy.rint(arr))"
   ]
  },
  {
   "cell_type": "markdown",
   "metadata": {},
   "source": [
    "## Sum and Prod"
   ]
  },
  {
   "cell_type": "code",
   "execution_count": null,
   "metadata": {},
   "outputs": [],
   "source": [
    "import numpy\n",
    "\n",
    "N,M = map(int, input().split())\n",
    "L = []\n",
    "for k in range(N):\n",
    "    L.append(list(map(int, input().split())))\n",
    "arr = numpy.array(L)\n",
    "\n",
    "print(numpy.prod(numpy.sum(arr, axis = 0)))"
   ]
  },
  {
   "cell_type": "markdown",
   "metadata": {},
   "source": [
    "## Min and Max"
   ]
  },
  {
   "cell_type": "code",
   "execution_count": null,
   "metadata": {},
   "outputs": [],
   "source": [
    "import numpy\n",
    "\n",
    "N,M = map(int, input().split())\n",
    "L = []\n",
    "for k in range(N):\n",
    "    L.append(list(map(int, input().split())))\n",
    "arr = numpy.array(L)\n",
    "\n",
    "print(numpy.max(numpy.min(arr, axis = 1)))"
   ]
  },
  {
   "cell_type": "markdown",
   "metadata": {},
   "source": [
    "## Mean, Var, and Std"
   ]
  },
  {
   "cell_type": "code",
   "execution_count": null,
   "metadata": {},
   "outputs": [],
   "source": [
    "import numpy\n",
    "numpy.set_printoptions(legacy='1.13')\n",
    "N,M = map(int, input().split())\n",
    "L = []\n",
    "for k in range(N):\n",
    "    L.append(list(map(int, input().split())))\n",
    "arr = numpy.array(L)\n",
    "\n",
    "print(numpy.mean(arr,axis = 1))\n",
    "print(numpy.var(arr,axis = 0))\n",
    "print(numpy.std(arr))\n"
   ]
  },
  {
   "cell_type": "markdown",
   "metadata": {},
   "source": [
    "## Dot and Cross"
   ]
  },
  {
   "cell_type": "code",
   "execution_count": null,
   "metadata": {},
   "outputs": [],
   "source": [
    "import numpy\n",
    "\n",
    "N = int(input())\n",
    "L = []\n",
    "for k in range(N):\n",
    "    L.append(list(map(int, input().split())))\n",
    "A = numpy.array(L)\n",
    "L = []\n",
    "for k in range(N):\n",
    "    L.append(list(map(int, input().split())))\n",
    "B = numpy.array(L)\n",
    "\n",
    "print(numpy.dot(A,B))"
   ]
  },
  {
   "cell_type": "markdown",
   "metadata": {},
   "source": [
    "## Inner and Outer"
   ]
  },
  {
   "cell_type": "code",
   "execution_count": null,
   "metadata": {},
   "outputs": [],
   "source": [
    "import numpy\n",
    "\n",
    "A = numpy.array(list(map(int, input().split())))\n",
    "B = numpy.array(list(map(int, input().split())))\n",
    "print(numpy.inner(A, B))\n",
    "print(numpy.outer(A, B))"
   ]
  },
  {
   "cell_type": "markdown",
   "metadata": {},
   "source": [
    "## Polynomials"
   ]
  },
  {
   "cell_type": "code",
   "execution_count": null,
   "metadata": {},
   "outputs": [],
   "source": [
    "import numpy\n",
    "\n",
    "P = list(map(float, input().split()))\n",
    "print(numpy.polyval(P, int(input())))"
   ]
  },
  {
   "cell_type": "markdown",
   "metadata": {},
   "source": [
    "## Linear Algebra"
   ]
  },
  {
   "cell_type": "code",
   "execution_count": null,
   "metadata": {},
   "outputs": [],
   "source": [
    "import numpy\n",
    "numpy.set_printoptions(legacy='1.13')\n",
    "N = int(input())\n",
    "L = []\n",
    "for k in range(N):\n",
    "    L.append(list(map(float, input().split())))\n",
    "print(numpy.linalg.det(numpy.array(L)))"
   ]
  },
  {
   "cell_type": "markdown",
   "metadata": {},
   "source": [
    "## Problem 2\n",
    "We continue in this question with the implementation of some algorithms in Python.\n",
    "As before, when you are finished and want to submit your assignment, from the hackerrank\n",
    "site, go to the submissions page under your profile and produce a PDF printout. This is available\n",
    "from the following url:\n",
    "<br>\n",
    "https://www.hackerrank.com/submissions/all\n",
    "<br>\n",
    "Your solutions must include as attachment:\n",
    "<br>\n",
    "-The pdf file that you created.\n",
    "<br>\n",
    "-The Python code of your solutions, clearly organized.\n",
    "<br>\n",
    "\n"
   ]
  },
  {
   "cell_type": "markdown",
   "metadata": {},
   "source": [
    "## Birthday Cake Candles"
   ]
  },
  {
   "cell_type": "code",
   "execution_count": null,
   "metadata": {},
   "outputs": [],
   "source": [
    "candles_count = int(input().strip())\n",
    "\n",
    "candles = list(map(int, input().rstrip().split()))\n",
    "    \n",
    "print(candles.count(max(candles)))"
   ]
  },
  {
   "cell_type": "markdown",
   "metadata": {},
   "source": [
    "## Kangaroo"
   ]
  },
  {
   "cell_type": "code",
   "execution_count": null,
   "metadata": {},
   "outputs": [],
   "source": [
    "import math\n",
    "import os\n",
    "import random\n",
    "import re\n",
    "import sys\n",
    "\n",
    "\n",
    "def kangaroo(x1, v1, x2, v2):\n",
    "    if v1==v2:\n",
    "        return('NO')\n",
    "    elif (x2-x1)/(v1-v2)>0 and (x2-x1)%(v1-v2)==0:\n",
    "        return('YES')\n",
    "    else:\n",
    "        return('NO')\n",
    "\n",
    "if __name__ == '__main__':\n",
    "    x1,v1,x2,v2 = map(int, input().split())\n",
    "    print(kangaroo(x1, v1, x2, v2))"
   ]
  },
  {
   "cell_type": "markdown",
   "metadata": {},
   "source": [
    "## Viral Advertising"
   ]
  },
  {
   "cell_type": "code",
   "execution_count": null,
   "metadata": {},
   "outputs": [],
   "source": [
    "n = int(input())\n",
    "\n",
    "shared = 5\n",
    "likes = [2]\n",
    "for k in range(n):\n",
    "    shared = (shared//2)*3\n",
    "    likes.append(likes[k]+shared//2)\n",
    "print(likes[-2])"
   ]
  },
  {
   "cell_type": "markdown",
   "metadata": {},
   "source": [
    "## Recursive Digit Sum"
   ]
  },
  {
   "cell_type": "code",
   "execution_count": null,
   "metadata": {},
   "outputs": [],
   "source": [
    "n, k = map(int, input().split())\n",
    "x = n * k % 9\n",
    "print(x if x else 9)"
   ]
  },
  {
   "cell_type": "markdown",
   "metadata": {},
   "source": [
    "## Insertion Sort"
   ]
  },
  {
   "cell_type": "code",
   "execution_count": null,
   "metadata": {},
   "outputs": [],
   "source": [
    "def insertionSort1(n, arr):\n",
    "    n-=1\n",
    "    i = arr[n]\n",
    "    while n>0:\n",
    "        if i > arr[n-1]:\n",
    "            arr[n] = i\n",
    "            print(*arr)\n",
    "            break\n",
    "        else:\n",
    "            arr[n] =arr[n-1]\n",
    "            print(*arr)\n",
    "            \n",
    "        n-=1\n",
    "    else:\n",
    "        arr[0] = i\n",
    "        print(*arr)\n",
    "        \n",
    "n = int(input())\n",
    "arr = list(map(int,input().split()))\n",
    "\n",
    "insertionSort1(n, arr)"
   ]
  },
  {
   "cell_type": "markdown",
   "metadata": {},
   "source": [
    "## Insertion Sort 2"
   ]
  }
 ],
 "metadata": {
  "kernelspec": {
   "display_name": "Python 3",
   "language": "python",
   "name": "python3"
  },
  "language_info": {
   "codemirror_mode": {
    "name": "ipython",
    "version": 3
   },
   "file_extension": ".py",
   "mimetype": "text/x-python",
   "name": "python",
   "nbconvert_exporter": "python",
   "pygments_lexer": "ipython3",
   "version": "3.7.4"
  }
 },
 "nbformat": 4,
 "nbformat_minor": 2
}
